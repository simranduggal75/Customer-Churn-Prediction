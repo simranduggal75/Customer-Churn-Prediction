{
 "cells": [
  {
   "cell_type": "code",
   "execution_count": 1,
   "id": "da196cb7-5dd1-45e2-a022-df172ed153f3",
   "metadata": {},
   "outputs": [
    {
     "name": "stdout",
     "output_type": "stream",
     "text": [
      "cwd: C:\\Users\\Dell\\Documents\\Customer-Churn-Prediction\n"
     ]
    }
   ],
   "source": [
    "# ensure cwd is project root\n",
    "import os\n",
    "root = r\"C:\\Users\\Dell\\Documents\\Customer-Churn-Prediction\"\n",
    "if os.getcwd() != root:\n",
    "    os.chdir(root)\n",
    "print(\"cwd:\", os.getcwd())\n"
   ]
  },
  {
   "cell_type": "code",
   "execution_count": 2,
   "id": "4f75305a-a672-4eb5-861a-71814be7c8c0",
   "metadata": {},
   "outputs": [
    {
     "name": "stdout",
     "output_type": "stream",
     "text": [
      "expected dataset path: C:\\Users\\Dell\\Documents\\Customer-Churn-Prediction\\Data\\raw\n",
      "exists? True\n",
      "files in data/raw:\n",
      "- 'Churn_Modelling.csv' 684858 bytes\n"
     ]
    }
   ],
   "source": [
    "#dataset check\n",
    "from pathlib import Path\n",
    "p = Path(\"data\")/\"raw\"\n",
    "print(\"expected dataset path:\", p.resolve())\n",
    "print(\"exists?\", p.exists())\n",
    "if p.exists():\n",
    "    files = list(p.iterdir())\n",
    "    print(\"files in data/raw:\")\n",
    "    for f in files:\n",
    "        print(\"-\", repr(f.name), f.stat().st_size, \"bytes\")\n",
    "else:\n",
    "    print(\"data/raw not found. Create data/raw and place churn_modelling.csv inside.\")"
   ]
  },
  {
   "cell_type": "code",
   "execution_count": null,
   "id": "6b6e39e6-2b8f-4dd8-933a-bb8ed528f9eb",
   "metadata": {},
   "outputs": [],
   "source": []
  }
 ],
 "metadata": {
  "kernelspec": {
   "display_name": "churn-env",
   "language": "python",
   "name": "churn-env"
  },
  "language_info": {
   "codemirror_mode": {
    "name": "ipython",
    "version": 3
   },
   "file_extension": ".py",
   "mimetype": "text/x-python",
   "name": "python",
   "nbconvert_exporter": "python",
   "pygments_lexer": "ipython3",
   "version": "3.11.0"
  }
 },
 "nbformat": 4,
 "nbformat_minor": 5
}
