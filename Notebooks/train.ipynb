{
 "cells": [
  {
   "cell_type": "code",
   "execution_count": 1,
   "id": "da196cb7-5dd1-45e2-a022-df172ed153f3",
   "metadata": {},
   "outputs": [
    {
     "name": "stdout",
     "output_type": "stream",
     "text": [
      "cwd: C:\\Users\\Dell\\Documents\\Customer-Churn-Prediction\n"
     ]
    }
   ],
   "source": [
    "# ensure cwd is project root\n",
    "import os\n",
    "root = r\"C:\\Users\\Dell\\Documents\\Customer-Churn-Prediction\"\n",
    "if os.getcwd() != root:\n",
    "    os.chdir(root)\n",
    "print(\"cwd:\", os.getcwd())\n"
   ]
  },
  {
   "cell_type": "code",
   "execution_count": null,
   "id": "4f75305a-a672-4eb5-861a-71814be7c8c0",
   "metadata": {},
   "outputs": [],
   "source": []
  }
 ],
 "metadata": {
  "kernelspec": {
   "display_name": "churn-env",
   "language": "python",
   "name": "churn-env"
  },
  "language_info": {
   "codemirror_mode": {
    "name": "ipython",
    "version": 3
   },
   "file_extension": ".py",
   "mimetype": "text/x-python",
   "name": "python",
   "nbconvert_exporter": "python",
   "pygments_lexer": "ipython3",
   "version": "3.11.0"
  }
 },
 "nbformat": 4,
 "nbformat_minor": 5
}
